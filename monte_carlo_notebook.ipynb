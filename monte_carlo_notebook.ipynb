{
 "cells": [
  {
   "cell_type": "code",
   "execution_count": 35,
   "metadata": {},
   "outputs": [],
   "source": [
    "import numpy as np\n",
    "import pandas as pd\n",
    "from scipy import stats\n",
    "import matplotlib.pyplot as plt\n",
    "import yfinance as yf\n",
    "import math"
   ]
  },
  {
   "cell_type": "code",
   "execution_count": 2,
   "metadata": {},
   "outputs": [
    {
     "name": "stdout",
     "output_type": "stream",
     "text": [
      "[***                    6%%                      ]  3 of 50 completed"
     ]
    },
    {
     "name": "stderr",
     "output_type": "stream",
     "text": [
      "/home/lenny/.anaconda3/envs/monte_carlo_simulation/lib/python3.13/site-packages/yfinance/utils.py:771: FutureWarning: The 'unit' keyword in TimedeltaIndex construction is deprecated and will be removed in a future version. Use pd.to_timedelta instead.\n",
      "  df.index += _pd.TimedeltaIndex(dst_error_hours, 'h')\n",
      "/home/lenny/.anaconda3/envs/monte_carlo_simulation/lib/python3.13/site-packages/yfinance/utils.py:771: FutureWarning: The 'unit' keyword in TimedeltaIndex construction is deprecated and will be removed in a future version. Use pd.to_timedelta instead.\n",
      "  df.index += _pd.TimedeltaIndex(dst_error_hours, 'h')\n",
      "/home/lenny/.anaconda3/envs/monte_carlo_simulation/lib/python3.13/site-packages/yfinance/utils.py:771: FutureWarning: The 'unit' keyword in TimedeltaIndex construction is deprecated and will be removed in a future version. Use pd.to_timedelta instead.\n",
      "  df.index += _pd.TimedeltaIndex(dst_error_hours, 'h')\n",
      "/home/lenny/.anaconda3/envs/monte_carlo_simulation/lib/python3.13/site-packages/yfinance/utils.py:771: FutureWarning: The 'unit' keyword in TimedeltaIndex construction is deprecated and will be removed in a future version. Use pd.to_timedelta instead.\n",
      "  df.index += _pd.TimedeltaIndex(dst_error_hours, 'h')\n"
     ]
    },
    {
     "name": "stdout",
     "output_type": "stream",
     "text": [
      "[******                12%%                      ]  6 of 50 completed"
     ]
    },
    {
     "name": "stderr",
     "output_type": "stream",
     "text": [
      "/home/lenny/.anaconda3/envs/monte_carlo_simulation/lib/python3.13/site-packages/yfinance/utils.py:771: FutureWarning: The 'unit' keyword in TimedeltaIndex construction is deprecated and will be removed in a future version. Use pd.to_timedelta instead.\n",
      "  df.index += _pd.TimedeltaIndex(dst_error_hours, 'h')\n",
      "/home/lenny/.anaconda3/envs/monte_carlo_simulation/lib/python3.13/site-packages/yfinance/utils.py:771: FutureWarning: The 'unit' keyword in TimedeltaIndex construction is deprecated and will be removed in a future version. Use pd.to_timedelta instead.\n",
      "  df.index += _pd.TimedeltaIndex(dst_error_hours, 'h')\n",
      "/home/lenny/.anaconda3/envs/monte_carlo_simulation/lib/python3.13/site-packages/yfinance/utils.py:771: FutureWarning: The 'unit' keyword in TimedeltaIndex construction is deprecated and will be removed in a future version. Use pd.to_timedelta instead.\n",
      "  df.index += _pd.TimedeltaIndex(dst_error_hours, 'h')\n"
     ]
    },
    {
     "name": "stdout",
     "output_type": "stream",
     "text": [
      "[*********             18%%                      ]  9 of 50 completed"
     ]
    },
    {
     "name": "stderr",
     "output_type": "stream",
     "text": [
      "/home/lenny/.anaconda3/envs/monte_carlo_simulation/lib/python3.13/site-packages/yfinance/utils.py:771: FutureWarning: The 'unit' keyword in TimedeltaIndex construction is deprecated and will be removed in a future version. Use pd.to_timedelta instead.\n",
      "  df.index += _pd.TimedeltaIndex(dst_error_hours, 'h')\n",
      "/home/lenny/.anaconda3/envs/monte_carlo_simulation/lib/python3.13/site-packages/yfinance/utils.py:771: FutureWarning: The 'unit' keyword in TimedeltaIndex construction is deprecated and will be removed in a future version. Use pd.to_timedelta instead.\n",
      "  df.index += _pd.TimedeltaIndex(dst_error_hours, 'h')\n",
      "/home/lenny/.anaconda3/envs/monte_carlo_simulation/lib/python3.13/site-packages/yfinance/utils.py:771: FutureWarning: The 'unit' keyword in TimedeltaIndex construction is deprecated and will be removed in a future version. Use pd.to_timedelta instead.\n",
      "  df.index += _pd.TimedeltaIndex(dst_error_hours, 'h')\n",
      "/home/lenny/.anaconda3/envs/monte_carlo_simulation/lib/python3.13/site-packages/yfinance/utils.py:771: FutureWarning: The 'unit' keyword in TimedeltaIndex construction is deprecated and will be removed in a future version. Use pd.to_timedelta instead.\n",
      "  df.index += _pd.TimedeltaIndex(dst_error_hours, 'h')\n"
     ]
    },
    {
     "name": "stdout",
     "output_type": "stream",
     "text": [
      "[************          26%%                      ]  13 of 50 completed"
     ]
    },
    {
     "name": "stderr",
     "output_type": "stream",
     "text": [
      "/home/lenny/.anaconda3/envs/monte_carlo_simulation/lib/python3.13/site-packages/yfinance/utils.py:771: FutureWarning: The 'unit' keyword in TimedeltaIndex construction is deprecated and will be removed in a future version. Use pd.to_timedelta instead.\n",
      "  df.index += _pd.TimedeltaIndex(dst_error_hours, 'h')\n",
      "/home/lenny/.anaconda3/envs/monte_carlo_simulation/lib/python3.13/site-packages/yfinance/utils.py:771: FutureWarning: The 'unit' keyword in TimedeltaIndex construction is deprecated and will be removed in a future version. Use pd.to_timedelta instead.\n",
      "  df.index += _pd.TimedeltaIndex(dst_error_hours, 'h')\n",
      "/home/lenny/.anaconda3/envs/monte_carlo_simulation/lib/python3.13/site-packages/yfinance/utils.py:771: FutureWarning: The 'unit' keyword in TimedeltaIndex construction is deprecated and will be removed in a future version. Use pd.to_timedelta instead.\n",
      "  df.index += _pd.TimedeltaIndex(dst_error_hours, 'h')\n"
     ]
    },
    {
     "name": "stdout",
     "output_type": "stream",
     "text": [
      "[*************         28%%                      ]  14 of 50 completed"
     ]
    },
    {
     "name": "stderr",
     "output_type": "stream",
     "text": [
      "/home/lenny/.anaconda3/envs/monte_carlo_simulation/lib/python3.13/site-packages/yfinance/utils.py:771: FutureWarning: The 'unit' keyword in TimedeltaIndex construction is deprecated and will be removed in a future version. Use pd.to_timedelta instead.\n",
      "  df.index += _pd.TimedeltaIndex(dst_error_hours, 'h')\n"
     ]
    },
    {
     "name": "stdout",
     "output_type": "stream",
     "text": [
      "[****************      34%%                      ]  17 of 50 completed"
     ]
    },
    {
     "name": "stderr",
     "output_type": "stream",
     "text": [
      "/home/lenny/.anaconda3/envs/monte_carlo_simulation/lib/python3.13/site-packages/yfinance/utils.py:771: FutureWarning: The 'unit' keyword in TimedeltaIndex construction is deprecated and will be removed in a future version. Use pd.to_timedelta instead.\n",
      "  df.index += _pd.TimedeltaIndex(dst_error_hours, 'h')\n",
      "/home/lenny/.anaconda3/envs/monte_carlo_simulation/lib/python3.13/site-packages/yfinance/utils.py:771: FutureWarning: The 'unit' keyword in TimedeltaIndex construction is deprecated and will be removed in a future version. Use pd.to_timedelta instead.\n",
      "  df.index += _pd.TimedeltaIndex(dst_error_hours, 'h')\n",
      "/home/lenny/.anaconda3/envs/monte_carlo_simulation/lib/python3.13/site-packages/yfinance/utils.py:771: FutureWarning: The 'unit' keyword in TimedeltaIndex construction is deprecated and will be removed in a future version. Use pd.to_timedelta instead.\n",
      "  df.index += _pd.TimedeltaIndex(dst_error_hours, 'h')\n"
     ]
    },
    {
     "name": "stdout",
     "output_type": "stream",
     "text": [
      "[*****************     36%%                      ]  18 of 50 completed"
     ]
    },
    {
     "name": "stderr",
     "output_type": "stream",
     "text": [
      "/home/lenny/.anaconda3/envs/monte_carlo_simulation/lib/python3.13/site-packages/yfinance/utils.py:771: FutureWarning: The 'unit' keyword in TimedeltaIndex construction is deprecated and will be removed in a future version. Use pd.to_timedelta instead.\n",
      "  df.index += _pd.TimedeltaIndex(dst_error_hours, 'h')\n"
     ]
    },
    {
     "name": "stdout",
     "output_type": "stream",
     "text": [
      "[********************* 44%%                      ]  22 of 50 completed"
     ]
    },
    {
     "name": "stderr",
     "output_type": "stream",
     "text": [
      "/home/lenny/.anaconda3/envs/monte_carlo_simulation/lib/python3.13/site-packages/yfinance/utils.py:771: FutureWarning: The 'unit' keyword in TimedeltaIndex construction is deprecated and will be removed in a future version. Use pd.to_timedelta instead.\n",
      "  df.index += _pd.TimedeltaIndex(dst_error_hours, 'h')\n",
      "/home/lenny/.anaconda3/envs/monte_carlo_simulation/lib/python3.13/site-packages/yfinance/utils.py:771: FutureWarning: The 'unit' keyword in TimedeltaIndex construction is deprecated and will be removed in a future version. Use pd.to_timedelta instead.\n",
      "  df.index += _pd.TimedeltaIndex(dst_error_hours, 'h')\n",
      "/home/lenny/.anaconda3/envs/monte_carlo_simulation/lib/python3.13/site-packages/yfinance/utils.py:771: FutureWarning: The 'unit' keyword in TimedeltaIndex construction is deprecated and will be removed in a future version. Use pd.to_timedelta instead.\n",
      "  df.index += _pd.TimedeltaIndex(dst_error_hours, 'h')\n",
      "/home/lenny/.anaconda3/envs/monte_carlo_simulation/lib/python3.13/site-packages/yfinance/utils.py:771: FutureWarning: The 'unit' keyword in TimedeltaIndex construction is deprecated and will be removed in a future version. Use pd.to_timedelta instead.\n",
      "  df.index += _pd.TimedeltaIndex(dst_error_hours, 'h')\n"
     ]
    },
    {
     "name": "stdout",
     "output_type": "stream",
     "text": [
      "[**********************48%%                      ]  24 of 50 completed"
     ]
    },
    {
     "name": "stderr",
     "output_type": "stream",
     "text": [
      "/home/lenny/.anaconda3/envs/monte_carlo_simulation/lib/python3.13/site-packages/yfinance/utils.py:771: FutureWarning: The 'unit' keyword in TimedeltaIndex construction is deprecated and will be removed in a future version. Use pd.to_timedelta instead.\n",
      "  df.index += _pd.TimedeltaIndex(dst_error_hours, 'h')\n",
      "/home/lenny/.anaconda3/envs/monte_carlo_simulation/lib/python3.13/site-packages/yfinance/utils.py:771: FutureWarning: The 'unit' keyword in TimedeltaIndex construction is deprecated and will be removed in a future version. Use pd.to_timedelta instead.\n",
      "  df.index += _pd.TimedeltaIndex(dst_error_hours, 'h')\n"
     ]
    },
    {
     "name": "stdout",
     "output_type": "stream",
     "text": [
      "[**********************52%%                      ]  26 of 50 completed"
     ]
    },
    {
     "name": "stderr",
     "output_type": "stream",
     "text": [
      "/home/lenny/.anaconda3/envs/monte_carlo_simulation/lib/python3.13/site-packages/yfinance/utils.py:771: FutureWarning: The 'unit' keyword in TimedeltaIndex construction is deprecated and will be removed in a future version. Use pd.to_timedelta instead.\n",
      "  df.index += _pd.TimedeltaIndex(dst_error_hours, 'h')\n",
      "/home/lenny/.anaconda3/envs/monte_carlo_simulation/lib/python3.13/site-packages/yfinance/utils.py:771: FutureWarning: The 'unit' keyword in TimedeltaIndex construction is deprecated and will be removed in a future version. Use pd.to_timedelta instead.\n",
      "  df.index += _pd.TimedeltaIndex(dst_error_hours, 'h')\n"
     ]
    },
    {
     "name": "stdout",
     "output_type": "stream",
     "text": [
      "[**********************56%%*                     ]  28 of 50 completed"
     ]
    },
    {
     "name": "stderr",
     "output_type": "stream",
     "text": [
      "/home/lenny/.anaconda3/envs/monte_carlo_simulation/lib/python3.13/site-packages/yfinance/utils.py:771: FutureWarning: The 'unit' keyword in TimedeltaIndex construction is deprecated and will be removed in a future version. Use pd.to_timedelta instead.\n",
      "  df.index += _pd.TimedeltaIndex(dst_error_hours, 'h')\n",
      "/home/lenny/.anaconda3/envs/monte_carlo_simulation/lib/python3.13/site-packages/yfinance/utils.py:771: FutureWarning: The 'unit' keyword in TimedeltaIndex construction is deprecated and will be removed in a future version. Use pd.to_timedelta instead.\n",
      "  df.index += _pd.TimedeltaIndex(dst_error_hours, 'h')\n"
     ]
    },
    {
     "name": "stdout",
     "output_type": "stream",
     "text": [
      "[**********************60%%***                   ]  30 of 50 completed"
     ]
    },
    {
     "name": "stderr",
     "output_type": "stream",
     "text": [
      "/home/lenny/.anaconda3/envs/monte_carlo_simulation/lib/python3.13/site-packages/yfinance/utils.py:771: FutureWarning: The 'unit' keyword in TimedeltaIndex construction is deprecated and will be removed in a future version. Use pd.to_timedelta instead.\n",
      "  df.index += _pd.TimedeltaIndex(dst_error_hours, 'h')\n",
      "/home/lenny/.anaconda3/envs/monte_carlo_simulation/lib/python3.13/site-packages/yfinance/utils.py:771: FutureWarning: The 'unit' keyword in TimedeltaIndex construction is deprecated and will be removed in a future version. Use pd.to_timedelta instead.\n",
      "  df.index += _pd.TimedeltaIndex(dst_error_hours, 'h')\n"
     ]
    },
    {
     "name": "stdout",
     "output_type": "stream",
     "text": [
      "[**********************62%%****                  ]  31 of 50 completed"
     ]
    },
    {
     "name": "stderr",
     "output_type": "stream",
     "text": [
      "/home/lenny/.anaconda3/envs/monte_carlo_simulation/lib/python3.13/site-packages/yfinance/utils.py:771: FutureWarning: The 'unit' keyword in TimedeltaIndex construction is deprecated and will be removed in a future version. Use pd.to_timedelta instead.\n",
      "  df.index += _pd.TimedeltaIndex(dst_error_hours, 'h')\n",
      "/home/lenny/.anaconda3/envs/monte_carlo_simulation/lib/python3.13/site-packages/yfinance/utils.py:771: FutureWarning: The 'unit' keyword in TimedeltaIndex construction is deprecated and will be removed in a future version. Use pd.to_timedelta instead.\n",
      "  df.index += _pd.TimedeltaIndex(dst_error_hours, 'h')\n"
     ]
    },
    {
     "name": "stdout",
     "output_type": "stream",
     "text": [
      "[**********************68%%*******               ]  34 of 50 completed"
     ]
    },
    {
     "name": "stderr",
     "output_type": "stream",
     "text": [
      "/home/lenny/.anaconda3/envs/monte_carlo_simulation/lib/python3.13/site-packages/yfinance/utils.py:771: FutureWarning: The 'unit' keyword in TimedeltaIndex construction is deprecated and will be removed in a future version. Use pd.to_timedelta instead.\n",
      "  df.index += _pd.TimedeltaIndex(dst_error_hours, 'h')\n",
      "/home/lenny/.anaconda3/envs/monte_carlo_simulation/lib/python3.13/site-packages/yfinance/utils.py:771: FutureWarning: The 'unit' keyword in TimedeltaIndex construction is deprecated and will be removed in a future version. Use pd.to_timedelta instead.\n",
      "  df.index += _pd.TimedeltaIndex(dst_error_hours, 'h')\n"
     ]
    },
    {
     "name": "stdout",
     "output_type": "stream",
     "text": [
      "[**********************72%%*********             ]  36 of 50 completed"
     ]
    },
    {
     "name": "stderr",
     "output_type": "stream",
     "text": [
      "/home/lenny/.anaconda3/envs/monte_carlo_simulation/lib/python3.13/site-packages/yfinance/utils.py:771: FutureWarning: The 'unit' keyword in TimedeltaIndex construction is deprecated and will be removed in a future version. Use pd.to_timedelta instead.\n",
      "  df.index += _pd.TimedeltaIndex(dst_error_hours, 'h')\n",
      "/home/lenny/.anaconda3/envs/monte_carlo_simulation/lib/python3.13/site-packages/yfinance/utils.py:771: FutureWarning: The 'unit' keyword in TimedeltaIndex construction is deprecated and will be removed in a future version. Use pd.to_timedelta instead.\n",
      "  df.index += _pd.TimedeltaIndex(dst_error_hours, 'h')\n"
     ]
    },
    {
     "name": "stdout",
     "output_type": "stream",
     "text": [
      "[**********************76%%**********            ]  38 of 50 completed"
     ]
    },
    {
     "name": "stderr",
     "output_type": "stream",
     "text": [
      "/home/lenny/.anaconda3/envs/monte_carlo_simulation/lib/python3.13/site-packages/yfinance/utils.py:771: FutureWarning: The 'unit' keyword in TimedeltaIndex construction is deprecated and will be removed in a future version. Use pd.to_timedelta instead.\n",
      "  df.index += _pd.TimedeltaIndex(dst_error_hours, 'h')\n",
      "/home/lenny/.anaconda3/envs/monte_carlo_simulation/lib/python3.13/site-packages/yfinance/utils.py:771: FutureWarning: The 'unit' keyword in TimedeltaIndex construction is deprecated and will be removed in a future version. Use pd.to_timedelta instead.\n",
      "  df.index += _pd.TimedeltaIndex(dst_error_hours, 'h')\n"
     ]
    },
    {
     "name": "stdout",
     "output_type": "stream",
     "text": [
      "[**********************80%%************          ]  40 of 50 completed"
     ]
    },
    {
     "name": "stderr",
     "output_type": "stream",
     "text": [
      "/home/lenny/.anaconda3/envs/monte_carlo_simulation/lib/python3.13/site-packages/yfinance/utils.py:771: FutureWarning: The 'unit' keyword in TimedeltaIndex construction is deprecated and will be removed in a future version. Use pd.to_timedelta instead.\n",
      "  df.index += _pd.TimedeltaIndex(dst_error_hours, 'h')\n",
      "/home/lenny/.anaconda3/envs/monte_carlo_simulation/lib/python3.13/site-packages/yfinance/utils.py:771: FutureWarning: The 'unit' keyword in TimedeltaIndex construction is deprecated and will be removed in a future version. Use pd.to_timedelta instead.\n",
      "  df.index += _pd.TimedeltaIndex(dst_error_hours, 'h')\n"
     ]
    },
    {
     "name": "stdout",
     "output_type": "stream",
     "text": [
      "[**********************82%%*************         ]  41 of 50 completed"
     ]
    },
    {
     "name": "stderr",
     "output_type": "stream",
     "text": [
      "/home/lenny/.anaconda3/envs/monte_carlo_simulation/lib/python3.13/site-packages/yfinance/utils.py:771: FutureWarning: The 'unit' keyword in TimedeltaIndex construction is deprecated and will be removed in a future version. Use pd.to_timedelta instead.\n",
      "  df.index += _pd.TimedeltaIndex(dst_error_hours, 'h')\n",
      "/home/lenny/.anaconda3/envs/monte_carlo_simulation/lib/python3.13/site-packages/yfinance/utils.py:771: FutureWarning: The 'unit' keyword in TimedeltaIndex construction is deprecated and will be removed in a future version. Use pd.to_timedelta instead.\n",
      "  df.index += _pd.TimedeltaIndex(dst_error_hours, 'h')\n"
     ]
    },
    {
     "name": "stdout",
     "output_type": "stream",
     "text": [
      "[**********************88%%****************      ]  44 of 50 completed"
     ]
    },
    {
     "name": "stderr",
     "output_type": "stream",
     "text": [
      "/home/lenny/.anaconda3/envs/monte_carlo_simulation/lib/python3.13/site-packages/yfinance/utils.py:771: FutureWarning: The 'unit' keyword in TimedeltaIndex construction is deprecated and will be removed in a future version. Use pd.to_timedelta instead.\n",
      "  df.index += _pd.TimedeltaIndex(dst_error_hours, 'h')\n",
      "/home/lenny/.anaconda3/envs/monte_carlo_simulation/lib/python3.13/site-packages/yfinance/utils.py:771: FutureWarning: The 'unit' keyword in TimedeltaIndex construction is deprecated and will be removed in a future version. Use pd.to_timedelta instead.\n",
      "  df.index += _pd.TimedeltaIndex(dst_error_hours, 'h')\n"
     ]
    },
    {
     "name": "stdout",
     "output_type": "stream",
     "text": [
      "[**********************90%%*****************     ]  45 of 50 completed"
     ]
    },
    {
     "name": "stderr",
     "output_type": "stream",
     "text": [
      "/home/lenny/.anaconda3/envs/monte_carlo_simulation/lib/python3.13/site-packages/yfinance/utils.py:771: FutureWarning: The 'unit' keyword in TimedeltaIndex construction is deprecated and will be removed in a future version. Use pd.to_timedelta instead.\n",
      "  df.index += _pd.TimedeltaIndex(dst_error_hours, 'h')\n"
     ]
    },
    {
     "name": "stdout",
     "output_type": "stream",
     "text": [
      "[**********************94%%*******************   ]  47 of 50 completed"
     ]
    },
    {
     "name": "stderr",
     "output_type": "stream",
     "text": [
      "/home/lenny/.anaconda3/envs/monte_carlo_simulation/lib/python3.13/site-packages/yfinance/utils.py:771: FutureWarning: The 'unit' keyword in TimedeltaIndex construction is deprecated and will be removed in a future version. Use pd.to_timedelta instead.\n",
      "  df.index += _pd.TimedeltaIndex(dst_error_hours, 'h')\n",
      "/home/lenny/.anaconda3/envs/monte_carlo_simulation/lib/python3.13/site-packages/yfinance/utils.py:771: FutureWarning: The 'unit' keyword in TimedeltaIndex construction is deprecated and will be removed in a future version. Use pd.to_timedelta instead.\n",
      "  df.index += _pd.TimedeltaIndex(dst_error_hours, 'h')\n"
     ]
    },
    {
     "name": "stdout",
     "output_type": "stream",
     "text": [
      "[**********************96%%********************  ]  48 of 50 completed"
     ]
    },
    {
     "name": "stderr",
     "output_type": "stream",
     "text": [
      "/home/lenny/.anaconda3/envs/monte_carlo_simulation/lib/python3.13/site-packages/yfinance/utils.py:771: FutureWarning: The 'unit' keyword in TimedeltaIndex construction is deprecated and will be removed in a future version. Use pd.to_timedelta instead.\n",
      "  df.index += _pd.TimedeltaIndex(dst_error_hours, 'h')\n"
     ]
    },
    {
     "name": "stdout",
     "output_type": "stream",
     "text": [
      "[*********************100%%**********************]  50 of 50 completed\n"
     ]
    },
    {
     "name": "stderr",
     "output_type": "stream",
     "text": [
      "/home/lenny/.anaconda3/envs/monte_carlo_simulation/lib/python3.13/site-packages/yfinance/utils.py:771: FutureWarning: The 'unit' keyword in TimedeltaIndex construction is deprecated and will be removed in a future version. Use pd.to_timedelta instead.\n",
      "  df.index += _pd.TimedeltaIndex(dst_error_hours, 'h')\n"
     ]
    }
   ],
   "source": [
    "# List of 50 stocks\n",
    "tickers = [\n",
    "    \"AAPL\", \"MSFT\", \"GOOGL\", \"AMZN\", \"TSLA\", \"NVDA\", \"META\", \"BRK-B\", \"JPM\", \"V\",\n",
    "    \"UNH\", \"JNJ\", \"XOM\", \"PG\", \"HD\", \"MA\", \"CVX\", \"ABBV\", \"PEP\", \"LLY\",\n",
    "    \"KO\", \"MRK\", \"AVGO\", \"COST\", \"MCD\", \"TMO\", \"DIS\", \"CSCO\", \"ACN\", \"AMD\",\n",
    "    \"CMCSA\", \"ADBE\", \"NFLX\", \"PFE\", \"DHR\", \"NKE\", \"TXN\", \"LIN\", \"UNP\", \"INTC\",\n",
    "    \"HON\", \"IBM\", \"PM\", \"CAT\", \"GE\", \"NOW\", \"GS\", \"BLK\", \"AXP\", \"DE\"\n",
    "]\n",
    "\n",
    "# Download historical data for the past 1 month\n",
    "# Data is a multi-indexed dataframe with ohlc on the first row and the stock ticker on the second row.\n",
    "data = yf.download(tickers, period=\"1y\", interval=\"1d\")"
   ]
  },
  {
   "cell_type": "code",
   "execution_count": 3,
   "metadata": {},
   "outputs": [
    {
     "data": {
      "text/html": [
       "<div>\n",
       "<style scoped>\n",
       "    .dataframe tbody tr th:only-of-type {\n",
       "        vertical-align: middle;\n",
       "    }\n",
       "\n",
       "    .dataframe tbody tr th {\n",
       "        vertical-align: top;\n",
       "    }\n",
       "\n",
       "    .dataframe thead tr th {\n",
       "        text-align: left;\n",
       "    }\n",
       "\n",
       "    .dataframe thead tr:last-of-type th {\n",
       "        text-align: right;\n",
       "    }\n",
       "</style>\n",
       "<table border=\"1\" class=\"dataframe\">\n",
       "  <thead>\n",
       "    <tr>\n",
       "      <th></th>\n",
       "      <th colspan=\"10\" halign=\"left\">Adj Close</th>\n",
       "      <th>...</th>\n",
       "      <th colspan=\"10\" halign=\"left\">Volume</th>\n",
       "    </tr>\n",
       "    <tr>\n",
       "      <th></th>\n",
       "      <th>AAPL</th>\n",
       "      <th>ABBV</th>\n",
       "      <th>ACN</th>\n",
       "      <th>ADBE</th>\n",
       "      <th>AMD</th>\n",
       "      <th>AMZN</th>\n",
       "      <th>AVGO</th>\n",
       "      <th>AXP</th>\n",
       "      <th>BLK</th>\n",
       "      <th>BRK-B</th>\n",
       "      <th>...</th>\n",
       "      <th>PFE</th>\n",
       "      <th>PG</th>\n",
       "      <th>PM</th>\n",
       "      <th>TMO</th>\n",
       "      <th>TSLA</th>\n",
       "      <th>TXN</th>\n",
       "      <th>UNH</th>\n",
       "      <th>UNP</th>\n",
       "      <th>V</th>\n",
       "      <th>XOM</th>\n",
       "    </tr>\n",
       "    <tr>\n",
       "      <th>Date</th>\n",
       "      <th></th>\n",
       "      <th></th>\n",
       "      <th></th>\n",
       "      <th></th>\n",
       "      <th></th>\n",
       "      <th></th>\n",
       "      <th></th>\n",
       "      <th></th>\n",
       "      <th></th>\n",
       "      <th></th>\n",
       "      <th></th>\n",
       "      <th></th>\n",
       "      <th></th>\n",
       "      <th></th>\n",
       "      <th></th>\n",
       "      <th></th>\n",
       "      <th></th>\n",
       "      <th></th>\n",
       "      <th></th>\n",
       "      <th></th>\n",
       "      <th></th>\n",
       "    </tr>\n",
       "  </thead>\n",
       "  <tbody>\n",
       "    <tr>\n",
       "      <th>2024-02-05</th>\n",
       "      <td>186.765015</td>\n",
       "      <td>165.240677</td>\n",
       "      <td>365.811768</td>\n",
       "      <td>630.500000</td>\n",
       "      <td>174.229996</td>\n",
       "      <td>170.309998</td>\n",
       "      <td>122.657883</td>\n",
       "      <td>203.681839</td>\n",
       "      <td>764.904602</td>\n",
       "      <td>390.760010</td>\n",
       "      <td>...</td>\n",
       "      <td>42633400</td>\n",
       "      <td>6931900</td>\n",
       "      <td>4672000</td>\n",
       "      <td>1473700</td>\n",
       "      <td>134294400</td>\n",
       "      <td>4190100</td>\n",
       "      <td>3646300</td>\n",
       "      <td>2701300</td>\n",
       "      <td>4899100</td>\n",
       "      <td>17190900</td>\n",
       "    </tr>\n",
       "    <tr>\n",
       "      <th>2024-02-06</th>\n",
       "      <td>188.377136</td>\n",
       "      <td>167.199326</td>\n",
       "      <td>360.240753</td>\n",
       "      <td>607.140015</td>\n",
       "      <td>167.880005</td>\n",
       "      <td>169.149994</td>\n",
       "      <td>120.640076</td>\n",
       "      <td>203.395035</td>\n",
       "      <td>769.602356</td>\n",
       "      <td>393.739990</td>\n",
       "      <td>...</td>\n",
       "      <td>56958700</td>\n",
       "      <td>6185400</td>\n",
       "      <td>5160100</td>\n",
       "      <td>1328100</td>\n",
       "      <td>122676000</td>\n",
       "      <td>4139800</td>\n",
       "      <td>2745400</td>\n",
       "      <td>2357300</td>\n",
       "      <td>4400000</td>\n",
       "      <td>13347900</td>\n",
       "    </tr>\n",
       "    <tr>\n",
       "      <th>2024-02-07</th>\n",
       "      <td>188.486588</td>\n",
       "      <td>168.858871</td>\n",
       "      <td>362.166901</td>\n",
       "      <td>615.849976</td>\n",
       "      <td>170.940002</td>\n",
       "      <td>170.529999</td>\n",
       "      <td>124.035324</td>\n",
       "      <td>206.787430</td>\n",
       "      <td>776.165649</td>\n",
       "      <td>397.660004</td>\n",
       "      <td>...</td>\n",
       "      <td>36843000</td>\n",
       "      <td>7209300</td>\n",
       "      <td>4694300</td>\n",
       "      <td>1451400</td>\n",
       "      <td>111535200</td>\n",
       "      <td>4627900</td>\n",
       "      <td>4109100</td>\n",
       "      <td>2337200</td>\n",
       "      <td>4785900</td>\n",
       "      <td>13826800</td>\n",
       "    </tr>\n",
       "    <tr>\n",
       "      <th>2024-02-08</th>\n",
       "      <td>187.401932</td>\n",
       "      <td>168.646591</td>\n",
       "      <td>363.974518</td>\n",
       "      <td>615.859985</td>\n",
       "      <td>169.350006</td>\n",
       "      <td>169.839996</td>\n",
       "      <td>125.781815</td>\n",
       "      <td>208.894058</td>\n",
       "      <td>774.700684</td>\n",
       "      <td>397.489990</td>\n",
       "      <td>...</td>\n",
       "      <td>29048400</td>\n",
       "      <td>6121600</td>\n",
       "      <td>9260300</td>\n",
       "      <td>1549300</td>\n",
       "      <td>83034000</td>\n",
       "      <td>3487700</td>\n",
       "      <td>3343000</td>\n",
       "      <td>1871500</td>\n",
       "      <td>5833400</td>\n",
       "      <td>19636900</td>\n",
       "    </tr>\n",
       "    <tr>\n",
       "      <th>2024-02-09</th>\n",
       "      <td>188.169144</td>\n",
       "      <td>167.961563</td>\n",
       "      <td>367.125488</td>\n",
       "      <td>627.210022</td>\n",
       "      <td>172.479996</td>\n",
       "      <td>174.449997</td>\n",
       "      <td>126.638275</td>\n",
       "      <td>210.140244</td>\n",
       "      <td>778.617126</td>\n",
       "      <td>398.359985</td>\n",
       "      <td>...</td>\n",
       "      <td>29062700</td>\n",
       "      <td>5978000</td>\n",
       "      <td>4966300</td>\n",
       "      <td>1280800</td>\n",
       "      <td>84476300</td>\n",
       "      <td>3919500</td>\n",
       "      <td>2715400</td>\n",
       "      <td>2012500</td>\n",
       "      <td>4618300</td>\n",
       "      <td>20410500</td>\n",
       "    </tr>\n",
       "  </tbody>\n",
       "</table>\n",
       "<p>5 rows × 300 columns</p>\n",
       "</div>"
      ],
      "text/plain": [
       "             Adj Close                                                  \\\n",
       "                  AAPL        ABBV         ACN        ADBE         AMD   \n",
       "Date                                                                     \n",
       "2024-02-05  186.765015  165.240677  365.811768  630.500000  174.229996   \n",
       "2024-02-06  188.377136  167.199326  360.240753  607.140015  167.880005   \n",
       "2024-02-07  188.486588  168.858871  362.166901  615.849976  170.940002   \n",
       "2024-02-08  187.401932  168.646591  363.974518  615.859985  169.350006   \n",
       "2024-02-09  188.169144  167.961563  367.125488  627.210022  172.479996   \n",
       "\n",
       "                                                                        ...  \\\n",
       "                  AMZN        AVGO         AXP         BLK       BRK-B  ...   \n",
       "Date                                                                    ...   \n",
       "2024-02-05  170.309998  122.657883  203.681839  764.904602  390.760010  ...   \n",
       "2024-02-06  169.149994  120.640076  203.395035  769.602356  393.739990  ...   \n",
       "2024-02-07  170.529999  124.035324  206.787430  776.165649  397.660004  ...   \n",
       "2024-02-08  169.839996  125.781815  208.894058  774.700684  397.489990  ...   \n",
       "2024-02-09  174.449997  126.638275  210.140244  778.617126  398.359985  ...   \n",
       "\n",
       "              Volume                                                          \\\n",
       "                 PFE       PG       PM      TMO       TSLA      TXN      UNH   \n",
       "Date                                                                           \n",
       "2024-02-05  42633400  6931900  4672000  1473700  134294400  4190100  3646300   \n",
       "2024-02-06  56958700  6185400  5160100  1328100  122676000  4139800  2745400   \n",
       "2024-02-07  36843000  7209300  4694300  1451400  111535200  4627900  4109100   \n",
       "2024-02-08  29048400  6121600  9260300  1549300   83034000  3487700  3343000   \n",
       "2024-02-09  29062700  5978000  4966300  1280800   84476300  3919500  2715400   \n",
       "\n",
       "                                        \n",
       "                UNP        V       XOM  \n",
       "Date                                    \n",
       "2024-02-05  2701300  4899100  17190900  \n",
       "2024-02-06  2357300  4400000  13347900  \n",
       "2024-02-07  2337200  4785900  13826800  \n",
       "2024-02-08  1871500  5833400  19636900  \n",
       "2024-02-09  2012500  4618300  20410500  \n",
       "\n",
       "[5 rows x 300 columns]"
      ]
     },
     "execution_count": 3,
     "metadata": {},
     "output_type": "execute_result"
    }
   ],
   "source": [
    "data.head()"
   ]
  },
  {
   "cell_type": "code",
   "execution_count": 4,
   "metadata": {},
   "outputs": [
    {
     "data": {
      "text/html": [
       "<div>\n",
       "<style scoped>\n",
       "    .dataframe tbody tr th:only-of-type {\n",
       "        vertical-align: middle;\n",
       "    }\n",
       "\n",
       "    .dataframe tbody tr th {\n",
       "        vertical-align: top;\n",
       "    }\n",
       "\n",
       "    .dataframe thead tr th {\n",
       "        text-align: left;\n",
       "    }\n",
       "</style>\n",
       "<table border=\"1\" class=\"dataframe\">\n",
       "  <thead>\n",
       "    <tr>\n",
       "      <th></th>\n",
       "      <th colspan=\"10\" halign=\"left\">Adj Close</th>\n",
       "      <th>...</th>\n",
       "      <th colspan=\"10\" halign=\"left\">Volume</th>\n",
       "    </tr>\n",
       "    <tr>\n",
       "      <th></th>\n",
       "      <th>AAPL</th>\n",
       "      <th>ABBV</th>\n",
       "      <th>ACN</th>\n",
       "      <th>ADBE</th>\n",
       "      <th>AMD</th>\n",
       "      <th>AMZN</th>\n",
       "      <th>AVGO</th>\n",
       "      <th>AXP</th>\n",
       "      <th>BLK</th>\n",
       "      <th>BRK-B</th>\n",
       "      <th>...</th>\n",
       "      <th>PFE</th>\n",
       "      <th>PG</th>\n",
       "      <th>PM</th>\n",
       "      <th>TMO</th>\n",
       "      <th>TSLA</th>\n",
       "      <th>TXN</th>\n",
       "      <th>UNH</th>\n",
       "      <th>UNP</th>\n",
       "      <th>V</th>\n",
       "      <th>XOM</th>\n",
       "    </tr>\n",
       "  </thead>\n",
       "  <tbody>\n",
       "    <tr>\n",
       "      <th>count</th>\n",
       "      <td>251.000000</td>\n",
       "      <td>251.000000</td>\n",
       "      <td>251.000000</td>\n",
       "      <td>251.000000</td>\n",
       "      <td>251.000000</td>\n",
       "      <td>251.000000</td>\n",
       "      <td>251.000000</td>\n",
       "      <td>251.000000</td>\n",
       "      <td>251.000000</td>\n",
       "      <td>251.000000</td>\n",
       "      <td>...</td>\n",
       "      <td>2.510000e+02</td>\n",
       "      <td>2.510000e+02</td>\n",
       "      <td>2.510000e+02</td>\n",
       "      <td>2.510000e+02</td>\n",
       "      <td>2.510000e+02</td>\n",
       "      <td>2.510000e+02</td>\n",
       "      <td>2.510000e+02</td>\n",
       "      <td>2.510000e+02</td>\n",
       "      <td>2.510000e+02</td>\n",
       "      <td>2.510000e+02</td>\n",
       "    </tr>\n",
       "    <tr>\n",
       "      <th>mean</th>\n",
       "      <td>211.014838</td>\n",
       "      <td>174.918952</td>\n",
       "      <td>338.339593</td>\n",
       "      <td>509.648605</td>\n",
       "      <td>154.149203</td>\n",
       "      <td>191.271793</td>\n",
       "      <td>161.774261</td>\n",
       "      <td>253.795653</td>\n",
       "      <td>878.304461</td>\n",
       "      <td>434.901116</td>\n",
       "      <td>...</td>\n",
       "      <td>3.798589e+07</td>\n",
       "      <td>6.578005e+06</td>\n",
       "      <td>5.326448e+06</td>\n",
       "      <td>1.543089e+06</td>\n",
       "      <td>9.168298e+07</td>\n",
       "      <td>5.542506e+06</td>\n",
       "      <td>4.096017e+06</td>\n",
       "      <td>2.390060e+06</td>\n",
       "      <td>6.937821e+06</td>\n",
       "      <td>1.590067e+07</td>\n",
       "    </tr>\n",
       "    <tr>\n",
       "      <th>std</th>\n",
       "      <td>26.034496</td>\n",
       "      <td>12.231854</td>\n",
       "      <td>27.783937</td>\n",
       "      <td>46.748146</td>\n",
       "      <td>20.559348</td>\n",
       "      <td>18.819300</td>\n",
       "      <td>32.580080</td>\n",
       "      <td>32.302265</td>\n",
       "      <td>106.624301</td>\n",
       "      <td>26.036374</td>\n",
       "      <td>...</td>\n",
       "      <td>1.578160e+07</td>\n",
       "      <td>2.754774e+06</td>\n",
       "      <td>2.186426e+06</td>\n",
       "      <td>6.694181e+05</td>\n",
       "      <td>3.312472e+07</td>\n",
       "      <td>2.340603e+06</td>\n",
       "      <td>2.478928e+06</td>\n",
       "      <td>8.346384e+05</td>\n",
       "      <td>3.698323e+06</td>\n",
       "      <td>5.390189e+06</td>\n",
       "    </tr>\n",
       "    <tr>\n",
       "      <th>min</th>\n",
       "      <td>164.405121</td>\n",
       "      <td>150.744324</td>\n",
       "      <td>279.392487</td>\n",
       "      <td>405.920013</td>\n",
       "      <td>114.169998</td>\n",
       "      <td>161.020004</td>\n",
       "      <td>119.376144</td>\n",
       "      <td>203.395035</td>\n",
       "      <td>734.400391</td>\n",
       "      <td>390.760010</td>\n",
       "      <td>...</td>\n",
       "      <td>1.518010e+07</td>\n",
       "      <td>2.460800e+06</td>\n",
       "      <td>1.647800e+06</td>\n",
       "      <td>4.887000e+05</td>\n",
       "      <td>3.716760e+07</td>\n",
       "      <td>1.950900e+06</td>\n",
       "      <td>1.581900e+06</td>\n",
       "      <td>6.690000e+05</td>\n",
       "      <td>2.684100e+06</td>\n",
       "      <td>7.732900e+06</td>\n",
       "    </tr>\n",
       "    <tr>\n",
       "      <th>25%</th>\n",
       "      <td>186.159470</td>\n",
       "      <td>165.357147</td>\n",
       "      <td>314.192596</td>\n",
       "      <td>477.580002</td>\n",
       "      <td>139.415001</td>\n",
       "      <td>178.419998</td>\n",
       "      <td>133.390366</td>\n",
       "      <td>228.663986</td>\n",
       "      <td>782.497131</td>\n",
       "      <td>409.125000</td>\n",
       "      <td>...</td>\n",
       "      <td>2.854580e+07</td>\n",
       "      <td>5.091450e+06</td>\n",
       "      <td>3.954900e+06</td>\n",
       "      <td>1.119400e+06</td>\n",
       "      <td>6.822425e+07</td>\n",
       "      <td>4.133600e+06</td>\n",
       "      <td>2.676200e+06</td>\n",
       "      <td>1.822100e+06</td>\n",
       "      <td>4.836800e+06</td>\n",
       "      <td>1.259525e+07</td>\n",
       "    </tr>\n",
       "    <tr>\n",
       "      <th>50%</th>\n",
       "      <td>221.446365</td>\n",
       "      <td>172.863022</td>\n",
       "      <td>343.899994</td>\n",
       "      <td>507.230011</td>\n",
       "      <td>155.770004</td>\n",
       "      <td>185.949997</td>\n",
       "      <td>160.103027</td>\n",
       "      <td>244.206207</td>\n",
       "      <td>845.613708</td>\n",
       "      <td>437.660004</td>\n",
       "      <td>...</td>\n",
       "      <td>3.503000e+07</td>\n",
       "      <td>6.046800e+06</td>\n",
       "      <td>4.860500e+06</td>\n",
       "      <td>1.397600e+06</td>\n",
       "      <td>8.384670e+07</td>\n",
       "      <td>5.035200e+06</td>\n",
       "      <td>3.332800e+06</td>\n",
       "      <td>2.252300e+06</td>\n",
       "      <td>5.969900e+06</td>\n",
       "      <td>1.486350e+07</td>\n",
       "    </tr>\n",
       "    <tr>\n",
       "      <th>75%</th>\n",
       "      <td>228.894142</td>\n",
       "      <td>186.859550</td>\n",
       "      <td>361.059998</td>\n",
       "      <td>546.904999</td>\n",
       "      <td>166.555000</td>\n",
       "      <td>199.314995</td>\n",
       "      <td>173.960732</td>\n",
       "      <td>276.400162</td>\n",
       "      <td>986.723816</td>\n",
       "      <td>458.570007</td>\n",
       "      <td>...</td>\n",
       "      <td>4.384765e+07</td>\n",
       "      <td>7.199800e+06</td>\n",
       "      <td>5.933650e+06</td>\n",
       "      <td>1.789550e+06</td>\n",
       "      <td>1.068110e+08</td>\n",
       "      <td>6.213250e+06</td>\n",
       "      <td>4.527700e+06</td>\n",
       "      <td>2.792050e+06</td>\n",
       "      <td>7.985500e+06</td>\n",
       "      <td>1.765065e+07</td>\n",
       "    </tr>\n",
       "    <tr>\n",
       "      <th>max</th>\n",
       "      <td>259.019989</td>\n",
       "      <td>201.965424</td>\n",
       "      <td>391.619995</td>\n",
       "      <td>630.500000</td>\n",
       "      <td>211.380005</td>\n",
       "      <td>242.059998</td>\n",
       "      <td>249.331955</td>\n",
       "      <td>325.869995</td>\n",
       "      <td>1075.500000</td>\n",
       "      <td>483.079987</td>\n",
       "      <td>...</td>\n",
       "      <td>1.310744e+08</td>\n",
       "      <td>2.864750e+07</td>\n",
       "      <td>1.837440e+07</td>\n",
       "      <td>6.150900e+06</td>\n",
       "      <td>2.438697e+08</td>\n",
       "      <td>1.907880e+07</td>\n",
       "      <td>2.273420e+07</td>\n",
       "      <td>6.802600e+06</td>\n",
       "      <td>2.781090e+07</td>\n",
       "      <td>5.222060e+07</td>\n",
       "    </tr>\n",
       "  </tbody>\n",
       "</table>\n",
       "<p>8 rows × 300 columns</p>\n",
       "</div>"
      ],
      "text/plain": [
       "        Adj Close                                                              \\\n",
       "             AAPL        ABBV         ACN        ADBE         AMD        AMZN   \n",
       "count  251.000000  251.000000  251.000000  251.000000  251.000000  251.000000   \n",
       "mean   211.014838  174.918952  338.339593  509.648605  154.149203  191.271793   \n",
       "std     26.034496   12.231854   27.783937   46.748146   20.559348   18.819300   \n",
       "min    164.405121  150.744324  279.392487  405.920013  114.169998  161.020004   \n",
       "25%    186.159470  165.357147  314.192596  477.580002  139.415001  178.419998   \n",
       "50%    221.446365  172.863022  343.899994  507.230011  155.770004  185.949997   \n",
       "75%    228.894142  186.859550  361.059998  546.904999  166.555000  199.314995   \n",
       "max    259.019989  201.965424  391.619995  630.500000  211.380005  242.059998   \n",
       "\n",
       "                                                        ...        Volume  \\\n",
       "             AVGO         AXP          BLK       BRK-B  ...           PFE   \n",
       "count  251.000000  251.000000   251.000000  251.000000  ...  2.510000e+02   \n",
       "mean   161.774261  253.795653   878.304461  434.901116  ...  3.798589e+07   \n",
       "std     32.580080   32.302265   106.624301   26.036374  ...  1.578160e+07   \n",
       "min    119.376144  203.395035   734.400391  390.760010  ...  1.518010e+07   \n",
       "25%    133.390366  228.663986   782.497131  409.125000  ...  2.854580e+07   \n",
       "50%    160.103027  244.206207   845.613708  437.660004  ...  3.503000e+07   \n",
       "75%    173.960732  276.400162   986.723816  458.570007  ...  4.384765e+07   \n",
       "max    249.331955  325.869995  1075.500000  483.079987  ...  1.310744e+08   \n",
       "\n",
       "                                                                             \\\n",
       "                 PG            PM           TMO          TSLA           TXN   \n",
       "count  2.510000e+02  2.510000e+02  2.510000e+02  2.510000e+02  2.510000e+02   \n",
       "mean   6.578005e+06  5.326448e+06  1.543089e+06  9.168298e+07  5.542506e+06   \n",
       "std    2.754774e+06  2.186426e+06  6.694181e+05  3.312472e+07  2.340603e+06   \n",
       "min    2.460800e+06  1.647800e+06  4.887000e+05  3.716760e+07  1.950900e+06   \n",
       "25%    5.091450e+06  3.954900e+06  1.119400e+06  6.822425e+07  4.133600e+06   \n",
       "50%    6.046800e+06  4.860500e+06  1.397600e+06  8.384670e+07  5.035200e+06   \n",
       "75%    7.199800e+06  5.933650e+06  1.789550e+06  1.068110e+08  6.213250e+06   \n",
       "max    2.864750e+07  1.837440e+07  6.150900e+06  2.438697e+08  1.907880e+07   \n",
       "\n",
       "                                                               \n",
       "                UNH           UNP             V           XOM  \n",
       "count  2.510000e+02  2.510000e+02  2.510000e+02  2.510000e+02  \n",
       "mean   4.096017e+06  2.390060e+06  6.937821e+06  1.590067e+07  \n",
       "std    2.478928e+06  8.346384e+05  3.698323e+06  5.390189e+06  \n",
       "min    1.581900e+06  6.690000e+05  2.684100e+06  7.732900e+06  \n",
       "25%    2.676200e+06  1.822100e+06  4.836800e+06  1.259525e+07  \n",
       "50%    3.332800e+06  2.252300e+06  5.969900e+06  1.486350e+07  \n",
       "75%    4.527700e+06  2.792050e+06  7.985500e+06  1.765065e+07  \n",
       "max    2.273420e+07  6.802600e+06  2.781090e+07  5.222060e+07  \n",
       "\n",
       "[8 rows x 300 columns]"
      ]
     },
     "execution_count": 4,
     "metadata": {},
     "output_type": "execute_result"
    }
   ],
   "source": [
    "# summary statistics of 'data' dataframe\n",
    "data.describe()"
   ]
  },
  {
   "cell_type": "code",
   "execution_count": null,
   "metadata": {},
   "outputs": [
    {
     "data": {
      "text/plain": [
       "Volume     XOM     0\n",
       "Adj Close  AAPL    0\n",
       "           ABBV    0\n",
       "           ACN     0\n",
       "           ADBE    0\n",
       "                  ..\n",
       "           DHR     0\n",
       "           DE      0\n",
       "           CVX     0\n",
       "           CSCO    0\n",
       "           COST    0\n",
       "Length: 300, dtype: int64"
      ]
     },
     "execution_count": 5,
     "metadata": {},
     "output_type": "execute_result"
    }
   ],
   "source": [
    "# Check for missing values and sort in descending format to capture values faster.\n",
    "data.isnull().sum().sort_values(ascending=False)"
   ]
  },
  {
   "cell_type": "code",
   "execution_count": null,
   "metadata": {},
   "outputs": [
    {
     "name": "stdout",
     "output_type": "stream",
     "text": [
      "                AAPL      ABBV       ACN      ADBE       AMD      AMZN  \\\n",
      "Date                                                                     \n",
      "2024-02-05       NaN       NaN       NaN       NaN       NaN       NaN   \n",
      "2024-02-06  0.863182  1.185331 -1.522918 -3.704994 -3.644603 -0.681113   \n",
      "2024-02-07  0.058102  0.992555  0.534683  1.434589  1.822729  0.815847   \n",
      "2024-02-08 -0.575455 -0.125715  0.499112  0.001625 -0.930149 -0.404622   \n",
      "2024-02-09  0.409394 -0.406191  0.865712  1.842957  1.848237  2.714320   \n",
      "...              ...       ...       ...       ...       ...       ...   \n",
      "2025-01-29  0.461683  0.257421 -1.049182 -0.261946  2.785320 -0.453490   \n",
      "2025-01-30 -0.739474  0.222526  1.690611  0.978085  1.286751 -1.025017   \n",
      "2025-01-31 -0.669219  4.696840  1.103089 -1.917038 -2.448262  1.295599   \n",
      "2025-02-03 -3.385596  3.393152  0.067536  0.262886 -1.448901 -0.109388   \n",
      "2025-02-04  2.100789 -0.099928  1.664028  0.371638  4.576882  1.954342   \n",
      "\n",
      "                AVGO       AXP       BLK     BRK-B  ...       PFE        PG  \\\n",
      "Date                                                ...                       \n",
      "2024-02-05       NaN       NaN       NaN       NaN  ...       NaN       NaN   \n",
      "2024-02-06 -1.645069 -0.140810  0.614162  0.762611  ...  3.500187  0.474059   \n",
      "2024-02-07  2.814362  1.667885  0.852816  0.995584  ...  0.218175  0.100652   \n",
      "2024-02-08  1.408059  1.018741 -0.188744 -0.042753  ...  0.036280 -0.301651   \n",
      "2024-02-09  0.680910  0.596563  0.505543  0.218872  ... -0.036267 -0.769050   \n",
      "...              ...       ...       ...       ...  ...       ...       ...   \n",
      "2025-01-29 -0.487073 -0.564600  0.134136 -0.151072  ... -0.485978  0.024065   \n",
      "2025-01-30  4.511751  1.173676  1.796490  0.658483  ...  1.089403  0.709865   \n",
      "2025-01-31  2.601317 -0.470293  0.371433 -0.779082  ... -1.449273 -0.848216   \n",
      "2025-02-03 -1.599859 -0.289814 -5.741516 -0.866287  ... -1.206635  1.668769   \n",
      "2025-02-04  2.158635 -0.221152  0.188407  0.619876  ... -1.259542 -0.373305   \n",
      "\n",
      "                  PM       TMO      TSLA       TXN       UNH       UNP  \\\n",
      "Date                                                                     \n",
      "2024-02-05       NaN       NaN       NaN       NaN       NaN       NaN   \n",
      "2024-02-06  0.032745  1.569916  2.231309 -0.333548  1.532933  1.309605   \n",
      "2024-02-07 -0.240014 -1.422501  1.339814  0.252585  1.707565 -0.284142   \n",
      "2024-02-08 -2.657485 -0.257111  1.055547  0.906965  0.134773 -0.136460   \n",
      "2024-02-09  0.123593 -0.025407  2.115430  1.366949 -0.359568  0.253191   \n",
      "...              ...       ...       ...       ...       ...       ...   \n",
      "2025-01-29  0.488516 -2.748635 -2.258281 -0.166136 -0.807404  0.156526   \n",
      "2025-01-30  0.563324  6.777187  2.873295  2.773612  1.388224  0.148265   \n",
      "2025-01-31 -0.092089 -1.481687  1.079246  0.380619 -0.564550 -0.852275   \n",
      "2025-02-03  0.145931 -0.669176 -5.170542 -1.987974  1.048868 -1.925013   \n",
      "2025-02-04  0.000000 -2.219788  2.223207 -0.210017 -0.498008  0.197513   \n",
      "\n",
      "                   V       XOM  \n",
      "Date                            \n",
      "2024-02-05       NaN       NaN  \n",
      "2024-02-06  0.428211  0.689309  \n",
      "2024-02-07  0.950281 -0.029336  \n",
      "2024-02-08 -1.108049  1.711988  \n",
      "2024-02-09  0.235695 -2.115991  \n",
      "...              ...       ...  \n",
      "2025-01-29  0.418558  0.583115  \n",
      "2025-01-30  2.134686  0.828197  \n",
      "2025-01-31 -0.364378 -2.500683  \n",
      "2025-02-03  1.176132  0.243372  \n",
      "2025-02-04 -0.193746  2.679991  \n",
      "\n",
      "[251 rows x 50 columns]\n"
     ]
    }
   ],
   "source": [
    "''' \n",
    "returns stores the percentage returns of each of the assets on a daily basis\n",
    "Alternatively you can use \n",
    "returns = df.loc[\"adj_close\"].pct_change() * 100\n",
    "'''\n",
    "\n",
    "returns = ((data[\"Adj Close\"] - data[\"Adj Close\"].shift(1)) / data[\"Adj Close\"].shift(1)) * 100\n",
    "print(returns)"
   ]
  },
  {
   "cell_type": "code",
   "execution_count": 37,
   "metadata": {},
   "outputs": [
    {
     "name": "stdout",
     "output_type": "stream",
     "text": [
      "                AAPL      ABBV       ACN      ADBE       AMD      AMZN  \\\n",
      "Date                                                                     \n",
      "2024-02-05       NaN       NaN       NaN       NaN       NaN       NaN   \n",
      "2024-02-06  0.008595  0.011784 -0.015346 -0.037754 -0.037127 -0.006834   \n",
      "2024-02-07  0.000581  0.009877  0.005333  0.014244  0.018063  0.008125   \n",
      "2024-02-08 -0.005771 -0.001258  0.004979  0.000016 -0.009345 -0.004054   \n",
      "2024-02-09  0.004086 -0.004070  0.008620  0.018262  0.018314  0.026781   \n",
      "...              ...       ...       ...       ...       ...       ...   \n",
      "2025-01-29  0.004606  0.002571 -0.010547 -0.002623  0.027472 -0.004545   \n",
      "2025-01-30 -0.007422  0.002223  0.016765  0.009733  0.012785 -0.010303   \n",
      "2025-01-31 -0.006715  0.045899  0.010970 -0.019357 -0.024787  0.012873   \n",
      "2025-02-03 -0.034442  0.033369  0.000675  0.002625 -0.014595 -0.001094   \n",
      "2025-02-04  0.020790 -0.001000  0.016503  0.003709  0.044752  0.019355   \n",
      "\n",
      "                AVGO       AXP       BLK     BRK-B  ...       PFE        PG  \\\n",
      "Date                                                ...                       \n",
      "2024-02-05       NaN       NaN       NaN       NaN  ...       NaN       NaN   \n",
      "2024-02-06 -0.016588 -0.001409  0.006123  0.007597  ...  0.034403  0.004729   \n",
      "2024-02-07  0.027755  0.016541  0.008492  0.009907  ...  0.002179  0.001006   \n",
      "2024-02-08  0.013982  0.010136 -0.001889 -0.000428  ...  0.000363 -0.003021   \n",
      "2024-02-09  0.006786  0.005948  0.005043  0.002186  ... -0.000363 -0.007720   \n",
      "...              ...       ...       ...       ...  ...       ...       ...   \n",
      "2025-01-29 -0.004883 -0.005662  0.001340 -0.001512  ... -0.004872  0.000241   \n",
      "2025-01-30  0.044129  0.011668  0.017805  0.006563  ...  0.010835  0.007074   \n",
      "2025-01-31  0.025681 -0.004714  0.003707 -0.007821  ... -0.014599 -0.008518   \n",
      "2025-02-03 -0.016128 -0.002902 -0.059129 -0.008701  ... -0.012140  0.016550   \n",
      "2025-02-04  0.021357 -0.002214  0.001882  0.006180  ... -0.012675 -0.003740   \n",
      "\n",
      "                  PM       TMO      TSLA       TXN       UNH       UNP  \\\n",
      "Date                                                                     \n",
      "2024-02-05       NaN       NaN       NaN       NaN       NaN       NaN   \n",
      "2024-02-06  0.000327  0.015577  0.022068 -0.003341  0.015213  0.013011   \n",
      "2024-02-07 -0.002403 -0.014327  0.013309  0.002523  0.016932 -0.002845   \n",
      "2024-02-08 -0.026934 -0.002574  0.010500  0.009029  0.001347 -0.001366   \n",
      "2024-02-09  0.001235 -0.000254  0.020934  0.013577 -0.003602  0.002529   \n",
      "...              ...       ...       ...       ...       ...       ...   \n",
      "2025-01-29  0.004873 -0.027871 -0.022842 -0.001663 -0.008107  0.001564   \n",
      "2025-01-30  0.005617  0.065574  0.028328  0.027358  0.013787  0.001482   \n",
      "2025-01-31 -0.000921 -0.014928  0.010735  0.003799 -0.005661 -0.008559   \n",
      "2025-02-03  0.001458 -0.006714 -0.053090 -0.020080  0.010434 -0.019438   \n",
      "2025-02-04  0.000000 -0.022448  0.021989 -0.002102 -0.004993  0.001973   \n",
      "\n",
      "                   V       XOM  \n",
      "Date                            \n",
      "2024-02-05       NaN       NaN  \n",
      "2024-02-06  0.004273  0.006869  \n",
      "2024-02-07  0.009458 -0.000293  \n",
      "2024-02-08 -0.011142  0.016975  \n",
      "2024-02-09  0.002354 -0.021387  \n",
      "...              ...       ...  \n",
      "2025-01-29  0.004177  0.005814  \n",
      "2025-01-30  0.021122  0.008248  \n",
      "2025-01-31 -0.003650 -0.025325  \n",
      "2025-02-03  0.011693  0.002431  \n",
      "2025-02-04 -0.001939  0.026447  \n",
      "\n",
      "[251 rows x 50 columns]\n"
     ]
    }
   ],
   "source": [
    "log_returns = np.log(data['Adj Close'] / data['Adj Close'].shift(1))\n",
    "print(log_returns)"
   ]
  },
  {
   "cell_type": "code",
   "execution_count": 6,
   "metadata": {},
   "outputs": [],
   "source": [
    "# Select 'AAPL' stock data and extract the 'Close' column\n",
    "close_prices = data['Close']"
   ]
  },
  {
   "cell_type": "code",
   "execution_count": 38,
   "metadata": {},
   "outputs": [
    {
     "data": {
      "image/png": "[encoded data removed]",
      "text/plain": [
       "<Figure size 1800x600 with 3 Axes>"
      ]
     },
     "metadata": {},
     "output_type": "display_data"
    }
   ],
   "source": [
    "# Create a figure and two subplots (1 row, 2 columns)\n",
    "fig, axes = plt.subplots(1, 3, figsize=(18, 6))\n",
    "\n",
    "# First subplot (left side)\n",
    "axes[0].hist(close_prices, bins=30, edgecolor='black')\n",
    "axes[0].set_title('Histogram of Close Prices')\n",
    "axes[0].set_xlabel('Price')\n",
    "axes[0].set_ylabel('Frequency')\n",
    "axes[0].grid(True, linestyle='--', alpha=0.5)\n",
    "\n",
    "# Second subplot (right side)\n",
    "axes[1].hist(returns, bins=30, edgecolor='black')\n",
    "axes[1].set_title('Histogram of Returns')\n",
    "axes[1].set_xlabel('Percentage Change')\n",
    "axes[1].set_ylabel('Frequency')\n",
    "axes[1].grid(True, linestyle='--', alpha=0.5)\n",
    "\n",
    "# Third subplot (right side)\n",
    "axes[2].hist(log_returns, bins=30, edgecolor='black')\n",
    "axes[2].set_title('Histogram of Log Returns')\n",
    "axes[2].set_xlabel('Log Change')\n",
    "axes[2].set_ylabel('Frequency')\n",
    "axes[2].grid(True, linestyle='--', alpha=0.5)\n",
    "\n",
    "# Show the plot\n",
    "plt.tight_layout()  # Adjust layout to prevent overlapping of labels\n",
    "plt.show()"
   ]
  },
  {
   "cell_type": "markdown",
   "metadata": {},
   "source": [
    "The histograms of adjusted closing prices and percentage returns reveal distinct statistical characteristics of the dataset.\n",
    "\n",
    "1. Adjusted Closing Prices: The histogram exhibits a right-skewed (positively skewed) distribution, indicating that while most stock prices cluster at lower values, a few stocks have significantly higher prices. This skewness suggests a long right tail, which is characteristic of financial data where a few large-cap stocks (e.g., AMZN, BRK-B) have disproportionately high prices compared to smaller-cap stocks.\n",
    "\n",
    "2. Percentage Returns: The histogram of daily percentage returns appears approximately normally distributed, with most values concentrated around zero. This suggests that stock returns exhibit symmetry, with gains and losses distributed fairly evenly around the mean. This aligns with the fundamental assumption in many financial models, such as the log-normal distribution of prices and the normality of short-term returns under the Efficient Market Hypothesis.\n",
    "\n",
    "# Statistical Interpretation:\n",
    "The right-skewness in prices implies that using raw price values in models can lead to misleading conclusions due to the large variation in scale across stocks.\n",
    "The near-normal distribution of percentage returns suggests that using returns instead of prices provides a stationary and scale-independent measure of stock performance, making it more suitable for statistical modeling and risk analysis."
   ]
  },
  {
   "cell_type": "code",
   "execution_count": null,
   "metadata": {},
   "outputs": [],
   "source": []
  }
 ],
 "metadata": {
  "kernelspec": {
   "display_name": "monte_carlo_simulation",
   "language": "python",
   "name": "python3"
  },
  "language_info": {
   "codemirror_mode": {
    "name": "ipython",
    "version": 3
   },
   "file_extension": ".py",
   "mimetype": "text/x-python",
   "name": "python",
   "nbconvert_exporter": "python",
   "pygments_lexer": "ipython3",
   "version": "3.13.1"
  }
 },
 "nbformat": 4,
 "nbformat_minor": 2
}
